{
 "cells": [
  {
   "cell_type": "code",
   "execution_count": 18,
   "metadata": {},
   "outputs": [
    {
     "ename": "SyntaxError",
     "evalue": "Missing parentheses in call to 'print'. Did you mean print(cv2.__version__)? (<ipython-input-18-e6239b14e993>, line 2)",
     "output_type": "error",
     "traceback": [
      "\u001b[1;36m  File \u001b[1;32m\"<ipython-input-18-e6239b14e993>\"\u001b[1;36m, line \u001b[1;32m2\u001b[0m\n\u001b[1;33m    print cv2.__version__\u001b[0m\n\u001b[1;37m            ^\u001b[0m\n\u001b[1;31mSyntaxError\u001b[0m\u001b[1;31m:\u001b[0m Missing parentheses in call to 'print'. Did you mean print(cv2.__version__)?\n"
     ]
    }
   ],
   "source": [
    "import cv2\n",
    "print cv2.__version__"
   ]
  },
  {
   "cell_type": "code",
   "execution_count": 19,
   "metadata": {},
   "outputs": [
    {
     "name": "stderr",
     "output_type": "stream",
     "text": [
      "usage: ipykernel_launcher.py [-h] -q ORGANICWASTES -o ORGANIC_WASTE\n",
      "ipykernel_launcher.py: error: the following arguments are required: -q/--organicwastes, -o/--organic_waste\n"
     ]
    },
    {
     "ename": "SystemExit",
     "evalue": "2",
     "output_type": "error",
     "traceback": [
      "An exception has occurred, use %tb to see the full traceback.\n",
      "\u001b[1;31mSystemExit\u001b[0m\u001b[1;31m:\u001b[0m 2\n"
     ]
    },
    {
     "name": "stderr",
     "output_type": "stream",
     "text": [
      "C:\\Users\\Subha\\Anaconda3\\lib\\site-packages\\IPython\\core\\interactiveshell.py:2971: UserWarning: To exit: use 'exit', 'quit', or Ctrl-D.\n",
      "  warn(\"To exit: use 'exit', 'quit', or Ctrl-D.\", stacklevel=1)\n"
     ]
    }
   ],
   "source": [
    "# Building the Image Dataset\n",
    "\n",
    "# import the necessary packages\n",
    "\n",
    "from requests import exceptions\n",
    "import argparse\n",
    "import requests\n",
    "\n",
    "import os\n",
    " \n",
    "# construct the argument parser and parse the arguments\n",
    "ap = argparse.ArgumentParser()\n",
    "ap.add_argument(\"-q\", \"--organicwastes\", required=True,\n",
    "help=\"search query to search Bing Image API for\")\n",
    "ap.add_argument(\"-o\", \"--organic_waste\", required=True,\n",
    "help=\"path to output directory of images\")\n",
    "args = vars(ap.parse_args())"
   ]
  },
  {
   "cell_type": "code",
   "execution_count": 20,
   "metadata": {},
   "outputs": [],
   "source": [
    "# set your Microsoft Cognitive Services API key along with (1) the\n",
    "# maximum number of results for a given search and (2) the group size\n",
    "# for results (maximum of 50 per request)\n",
    "API_KEY = \"8e9804ff99624251a203ede09b19342b\"\n",
    "MAX_RESULTS = 250\n",
    "GROUP_SIZE = 50\n",
    " \n",
    "# set the endpoint API URL\n",
    "URL = \"https://api.cognitive.microsoft.com/bing/v7.0/images/search\""
   ]
  },
  {
   "cell_type": "code",
   "execution_count": 21,
   "metadata": {},
   "outputs": [],
   "source": [
    "# when attempting to download images from the web both the Python\n",
    "# programming language and the requests library have a number of\n",
    "# exceptions that can be thrown so let's build a list of them now\n",
    "# so we can filter on them\n",
    "EXCEPTIONS = set([IOError, FileNotFoundError,\n",
    "\texceptions.RequestException, exceptions.HTTPError,\n",
    "\texceptions.ConnectionError, exceptions.Timeout])"
   ]
  },
  {
   "cell_type": "code",
   "execution_count": 22,
   "metadata": {},
   "outputs": [
    {
     "ename": "NameError",
     "evalue": "name 'args' is not defined",
     "output_type": "error",
     "traceback": [
      "\u001b[1;31m---------------------------------------------------------------------------\u001b[0m",
      "\u001b[1;31mNameError\u001b[0m                                 Traceback (most recent call last)",
      "\u001b[1;32m<ipython-input-22-52b2b25db912>\u001b[0m in \u001b[0;36m<module>\u001b[1;34m()\u001b[0m\n\u001b[0;32m      1\u001b[0m \u001b[1;31m# store the search term in a convenience variable then set the\u001b[0m\u001b[1;33m\u001b[0m\u001b[1;33m\u001b[0m\u001b[0m\n\u001b[0;32m      2\u001b[0m \u001b[1;31m# headers and search parameters\u001b[0m\u001b[1;33m\u001b[0m\u001b[1;33m\u001b[0m\u001b[0m\n\u001b[1;32m----> 3\u001b[1;33m \u001b[0mterm\u001b[0m \u001b[1;33m=\u001b[0m \u001b[0margs\u001b[0m\u001b[1;33m[\u001b[0m\u001b[1;34m\"organic\"\u001b[0m\u001b[1;33m]\u001b[0m\u001b[1;33m\u001b[0m\u001b[0m\n\u001b[0m\u001b[0;32m      4\u001b[0m \u001b[0mheaders\u001b[0m \u001b[1;33m=\u001b[0m \u001b[1;33m{\u001b[0m\u001b[1;34m\"Ocp-Apim-Subscription-Key\"\u001b[0m \u001b[1;33m:\u001b[0m \u001b[0mAPI_KEY\u001b[0m\u001b[1;33m}\u001b[0m\u001b[1;33m\u001b[0m\u001b[0m\n\u001b[0;32m      5\u001b[0m \u001b[0mparams\u001b[0m \u001b[1;33m=\u001b[0m \u001b[1;33m{\u001b[0m\u001b[1;34m\"q\"\u001b[0m\u001b[1;33m:\u001b[0m \u001b[0mterm\u001b[0m\u001b[1;33m,\u001b[0m \u001b[1;34m\"offset\"\u001b[0m\u001b[1;33m:\u001b[0m \u001b[1;36m0\u001b[0m\u001b[1;33m,\u001b[0m \u001b[1;34m\"count\"\u001b[0m\u001b[1;33m:\u001b[0m \u001b[0mGROUP_SIZE\u001b[0m\u001b[1;33m}\u001b[0m\u001b[1;33m\u001b[0m\u001b[0m\n",
      "\u001b[1;31mNameError\u001b[0m: name 'args' is not defined"
     ]
    }
   ],
   "source": [
    "# store the search term in a convenience variable then set the\n",
    "# headers and search parameters\n",
    "term = args[\"organic\"]\n",
    "headers = {\"Ocp-Apim-Subscription-Key\" : API_KEY}\n",
    "params = {\"q\": term, \"offset\": 0, \"count\": GROUP_SIZE}\n",
    " \n",
    "# make the search\n",
    "print(\"[INFO] searching Bing API for '{}'\".format(term))\n",
    "search = requests.get(URL, headers=headers, params=params)\n",
    "search.raise_for_status()\n",
    " \n",
    "# grab the results from the search, including the total number of\n",
    "# estimated results returned by the Bing API\n",
    "results = search.json()\n",
    "estNumResults = min(results[\"totalEstimatedMatches\"], MAX_RESULTS)\n",
    "print(\"[INFO] {} total results for '{}'\".format(estNumResults,\n",
    "\tterm))\n",
    " \n",
    "# initialize the total number of images downloaded thus far\n",
    "total = 0"
   ]
  },
  {
   "cell_type": "code",
   "execution_count": null,
   "metadata": {},
   "outputs": [],
   "source": []
  },
  {
   "cell_type": "code",
   "execution_count": null,
   "metadata": {},
   "outputs": [],
   "source": []
  },
  {
   "cell_type": "code",
   "execution_count": null,
   "metadata": {},
   "outputs": [],
   "source": []
  }
 ],
 "metadata": {
  "kernelspec": {
   "display_name": "Python 3",
   "language": "python",
   "name": "python3"
  },
  "language_info": {
   "codemirror_mode": {
    "name": "ipython",
    "version": 3
   },
   "file_extension": ".py",
   "mimetype": "text/x-python",
   "name": "python",
   "nbconvert_exporter": "python",
   "pygments_lexer": "ipython3",
   "version": "3.6.5"
  }
 },
 "nbformat": 4,
 "nbformat_minor": 2
}
