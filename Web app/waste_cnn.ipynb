{
  "nbformat": 4,
  "nbformat_minor": 0,
  "metadata": {
    "colab": {
      "name": "waste_cnn.ipynb",
      "version": "0.3.2",
      "provenance": [],
      "collapsed_sections": []
    },
    "kernelspec": {
      "name": "python3",
      "display_name": "Python 3"
    }
  },
  "cells": [
    {
      "metadata": {
        "id": "Eix_l5a-y-8_",
        "colab_type": "code",
        "colab": {
          "base_uri": "https://localhost:8080/",
          "height": 34
        },
        "outputId": "cf2ebd11-65a7-430c-88cb-8d44d8511929"
      },
      "cell_type": "code",
      "source": [
        "import numpy as np\n",
        "%matplotlib inline\n",
        "import matplotlib.pyplot as plt\n",
        "import cv2\n",
        "\n",
        "import tensorflow as tf\n",
        "import keras\n",
        "from keras.models import Sequential, load_model\n",
        "from keras.layers import Dense, Conv2D, MaxPooling2D, Flatten, Dropout\n",
        "from keras.losses import categorical_crossentropy\n",
        "from keras.optimizers import adam, sgd\n",
        "from keras.preprocessing.image import ImageDataGenerator\n",
        "from keras.callbacks import ModelCheckpoint\n",
        "from keras.models import Sequential, Model\n",
        "from keras.callbacks import ModelCheckpoint, LearningRateScheduler, TensorBoard, EarlyStopping\n",
        "\n",
        "from PIL import Image"
      ],
      "execution_count": 1,
      "outputs": [
        {
          "output_type": "stream",
          "text": [
            "Using TensorFlow backend.\n"
          ],
          "name": "stderr"
        }
      ]
    },
    {
      "metadata": {
        "id": "eQdijg1WzLWD",
        "colab_type": "code",
        "colab": {}
      },
      "cell_type": "code",
      "source": [
        "import os"
      ],
      "execution_count": 0,
      "outputs": []
    },
    {
      "metadata": {
        "id": "IAvjtaV1zLYt",
        "colab_type": "code",
        "colab": {
          "base_uri": "https://localhost:8080/",
          "height": 34
        },
        "outputId": "89c150e7-35a7-479b-e7e8-c9b6e556c789"
      },
      "cell_type": "code",
      "source": [
        "from google.colab import drive\n",
        "\n",
        "# This will prompt for authorization.\n",
        "drive.mount('/content/drive')"
      ],
      "execution_count": 3,
      "outputs": [
        {
          "output_type": "stream",
          "text": [
            "Drive already mounted at /content/drive; to attempt to forcibly remount, call drive.mount(\"/content/drive\", force_remount=True).\n"
          ],
          "name": "stdout"
        }
      ]
    },
    {
      "metadata": {
        "id": "YLTrJ6tYzLbZ",
        "colab_type": "code",
        "colab": {
          "base_uri": "https://localhost:8080/",
          "height": 34
        },
        "outputId": "2398af80-91c4-4afe-e38d-d113e25d2026"
      },
      "cell_type": "code",
      "source": [
        "#go to working directory\n",
        "cd \"/content/drive/My Drive/dataset/\""
      ],
      "execution_count": 4,
      "outputs": [
        {
          "output_type": "stream",
          "text": [
            "/content/drive/My Drive/dataset\n"
          ],
          "name": "stdout"
        }
      ]
    },
    {
      "metadata": {
        "id": "TD_4ofLNzLd9",
        "colab_type": "code",
        "colab": {}
      },
      "cell_type": "code",
      "source": [
        "#define the variables\n",
        "train_path = 'training_set'\n",
        "test_path = 'test_set'\n",
        "IMG_BREDTH = 30\n",
        "IMG_HEIGHT = 60\n",
        "num_classes = 2"
      ],
      "execution_count": 0,
      "outputs": []
    },
    {
      "metadata": {
        "id": "hUSn0RpszLgp",
        "colab_type": "code",
        "colab": {
          "base_uri": "https://localhost:8080/",
          "height": 51
        },
        "outputId": "ae1b57f3-17f5-4c3a-8ba3-66db5506f641"
      },
      "cell_type": "code",
      "source": [
        "train_batch = ImageDataGenerator(featurewise_center=False,\n",
        "                                 samplewise_center=False, \n",
        "                                 featurewise_std_normalization=False, \n",
        "                                 samplewise_std_normalization=False, \n",
        "                                 zca_whitening=False, \n",
        "                                 rotation_range=45, \n",
        "                                 width_shift_range=0.2, \n",
        "                                 height_shift_range=0.2, \n",
        "                                 horizontal_flip=True, \n",
        "                                 vertical_flip=False).flow_from_directory(train_path, \n",
        "                                                                          target_size=(IMG_HEIGHT, IMG_BREDTH), \n",
        "                                                                          classes=['compostable_wastes', 'recyclable_wastes'], \n",
        "                                                                          batch_size=100)\n",
        "\n",
        "test_batch = ImageDataGenerator().flow_from_directory(test_path, \n",
        "                                                      target_size=(IMG_HEIGHT, IMG_BREDTH), \n",
        "                                                      classes=['compostable_wastes', 'recyclable_wastes'], \n",
        "                                                      batch_size=100)"
      ],
      "execution_count": 6,
      "outputs": [
        {
          "output_type": "stream",
          "text": [
            "Found 3111 images belonging to 2 classes.\n",
            "Found 779 images belonging to 2 classes.\n"
          ],
          "name": "stdout"
        }
      ]
    },
    {
      "metadata": {
        "id": "GgahNW9Om-js",
        "colab_type": "code",
        "colab": {}
      },
      "cell_type": "code",
      "source": [
        "batch_size = 10\n",
        "epochs = 15"
      ],
      "execution_count": 0,
      "outputs": []
    },
    {
      "metadata": {
        "id": "o6E1LC98zLjS",
        "colab_type": "code",
        "colab": {}
      },
      "cell_type": "code",
      "source": [
        "def cnn_model():\n",
        "    \n",
        "    model = Sequential()\n",
        "\n",
        "    model.add(Conv2D(32, kernel_size=(3, 3), padding='same', activation='relu', input_shape=(IMG_HEIGHT,IMG_BREDTH,3)))\n",
        "    model.add(Conv2D(32, kernel_size=(3, 3), activation='relu'))\n",
        "    model.add(Conv2D(32, kernel_size=(3, 3), activation='relu'))\n",
        "    model.add(MaxPooling2D(pool_size=(2, 2)))\n",
        "    model.add(Dropout(0.25))\n",
        "\n",
        "    model.add(Conv2D(64, kernel_size=(3, 3), activation='relu'))\n",
        "    model.add(Conv2D(64, kernel_size=(3, 3), activation='relu'))\n",
        "    model.add(Conv2D(64, kernel_size=(3, 3), activation='relu'))\n",
        "    model.add(Dropout(0.25))\n",
        "    \n",
        "    model.add(Conv2D(128, kernel_size=(3, 3), activation='relu'))\n",
        "    model.add(Conv2D(128, kernel_size=(3, 3), activation='relu'))\n",
        "    model.add(Conv2D(128, kernel_size=(3, 3), activation='relu'))\n",
        "    model.add(Dropout(0.25))\n",
        "    \n",
        "    model.add(Flatten())\n",
        "\n",
        "    model.add(Dense(512, activation='relu'))\n",
        "    model.add(Dropout(0.5))\n",
        "    model.add(Dense(512, activation='relu'))\n",
        "    model.add(Dropout(0.5))\n",
        "\n",
        "    model.add(Dense(num_classes, activation='softmax'))\n",
        "    \n",
        "              \n",
        "    model.summary()\n",
        "              \n",
        "    return model\n",
        "\n",
        "def use_model(path):\n",
        "    \n",
        "    model = load_model('best_waste_classifier.h5')\n",
        "    pic = plt.imread(path)\n",
        "    pic = cv2.resize(pic, (IMG_BREDTH, IMG_HEIGHT))\n",
        "    pic = np.expand_dims(pic, axis=0)\n",
        "    classes = model.predict_classes(pic)\n",
        "  \n",
        "    return classes"
      ],
      "execution_count": 0,
      "outputs": []
    },
    {
      "metadata": {
        "id": "1KA4tKLezLll",
        "colab_type": "code",
        "colab": {
          "base_uri": "https://localhost:8080/",
          "height": 782
        },
        "outputId": "d5c59f24-3862-442a-a811-bc17ddf94fc1"
      },
      "cell_type": "code",
      "source": [
        "model = cnn_model()"
      ],
      "execution_count": 9,
      "outputs": [
        {
          "output_type": "stream",
          "text": [
            "_________________________________________________________________\n",
            "Layer (type)                 Output Shape              Param #   \n",
            "=================================================================\n",
            "conv2d_1 (Conv2D)            (None, 60, 30, 32)        896       \n",
            "_________________________________________________________________\n",
            "conv2d_2 (Conv2D)            (None, 58, 28, 32)        9248      \n",
            "_________________________________________________________________\n",
            "conv2d_3 (Conv2D)            (None, 56, 26, 32)        9248      \n",
            "_________________________________________________________________\n",
            "max_pooling2d_1 (MaxPooling2 (None, 28, 13, 32)        0         \n",
            "_________________________________________________________________\n",
            "dropout_1 (Dropout)          (None, 28, 13, 32)        0         \n",
            "_________________________________________________________________\n",
            "conv2d_4 (Conv2D)            (None, 26, 11, 64)        18496     \n",
            "_________________________________________________________________\n",
            "conv2d_5 (Conv2D)            (None, 24, 9, 64)         36928     \n",
            "_________________________________________________________________\n",
            "conv2d_6 (Conv2D)            (None, 22, 7, 64)         36928     \n",
            "_________________________________________________________________\n",
            "dropout_2 (Dropout)          (None, 22, 7, 64)         0         \n",
            "_________________________________________________________________\n",
            "conv2d_7 (Conv2D)            (None, 20, 5, 128)        73856     \n",
            "_________________________________________________________________\n",
            "conv2d_8 (Conv2D)            (None, 18, 3, 128)        147584    \n",
            "_________________________________________________________________\n",
            "conv2d_9 (Conv2D)            (None, 16, 1, 128)        147584    \n",
            "_________________________________________________________________\n",
            "dropout_3 (Dropout)          (None, 16, 1, 128)        0         \n",
            "_________________________________________________________________\n",
            "flatten_1 (Flatten)          (None, 2048)              0         \n",
            "_________________________________________________________________\n",
            "dense_1 (Dense)              (None, 512)               1049088   \n",
            "_________________________________________________________________\n",
            "dropout_4 (Dropout)          (None, 512)               0         \n",
            "_________________________________________________________________\n",
            "dense_2 (Dense)              (None, 512)               262656    \n",
            "_________________________________________________________________\n",
            "dropout_5 (Dropout)          (None, 512)               0         \n",
            "_________________________________________________________________\n",
            "dense_3 (Dense)              (None, 2)                 1026      \n",
            "=================================================================\n",
            "Total params: 1,793,538\n",
            "Trainable params: 1,793,538\n",
            "Non-trainable params: 0\n",
            "_________________________________________________________________\n"
          ],
          "name": "stdout"
        }
      ]
    },
    {
      "metadata": {
        "id": "kr_x_yDAmzCd",
        "colab_type": "code",
        "colab": {
          "base_uri": "https://localhost:8080/",
          "height": 34
        },
        "outputId": "629671c5-34d1-4a03-d1bd-52e2b5eb2e7d"
      },
      "cell_type": "code",
      "source": [
        "path, data_dir_list, files = next(os.walk(train_path))\n",
        "data_dir_list"
      ],
      "execution_count": 10,
      "outputs": [
        {
          "output_type": "execute_result",
          "data": {
            "text/plain": [
              "['recyclable_wastes', 'compostable_wastes']"
            ]
          },
          "metadata": {
            "tags": []
          },
          "execution_count": 10
        }
      ]
    },
    {
      "metadata": {
        "id": "qp9bQ17Mn2NK",
        "colab_type": "code",
        "colab": {
          "base_uri": "https://localhost:8080/",
          "height": 51
        },
        "outputId": "c9e2120d-f804-4f01-c5d4-332cabbb77e9"
      },
      "cell_type": "code",
      "source": [
        "#Calculate Train samples\n",
        "train_samples = 0\n",
        "\n",
        "path, dirs, files = next(os.walk(train_path))\n",
        "nb_classsifires = len(dirs)\n",
        "print(nb_classsifires)\n",
        "for d in dirs:\n",
        "    path, nub_classifires, files = next(os.walk(train_path + \"/\" + d))\n",
        "    train_samples = train_samples+len(files)\n",
        "    \n",
        "print(train_samples ) "
      ],
      "execution_count": 11,
      "outputs": [
        {
          "output_type": "stream",
          "text": [
            "2\n",
            "3113\n"
          ],
          "name": "stdout"
        }
      ]
    },
    {
      "metadata": {
        "id": "y_zBipLroXxB",
        "colab_type": "code",
        "colab": {
          "base_uri": "https://localhost:8080/",
          "height": 51
        },
        "outputId": "dcf2f45b-de98-4fda-fc74-90c05b634cf3"
      },
      "cell_type": "code",
      "source": [
        "test_samples = 0\n",
        "\n",
        "path, dirs, files = next(os.walk(test_path))\n",
        "nb_classsifires = len(dirs)\n",
        "print(nb_classsifires)\n",
        "for d in dirs:\n",
        "    path, nub_classifires, files = next(os.walk(test_path + \"/\" + d))\n",
        "    test_samples = test_samples+len(files)\n",
        "    \n",
        "print(test_samples) "
      ],
      "execution_count": 12,
      "outputs": [
        {
          "output_type": "stream",
          "text": [
            "2\n",
            "781\n"
          ],
          "name": "stdout"
        }
      ]
    },
    {
      "metadata": {
        "id": "pmDkK6EwmRBp",
        "colab_type": "code",
        "colab": {}
      },
      "cell_type": "code",
      "source": [
        "checkpoint = ModelCheckpoint('best_waste_classifier.h5', \n",
        "                             monitor='val_loss', \n",
        "                             verbose=0, \n",
        "                             save_best_only=True, \n",
        "                             mode='auto')"
      ],
      "execution_count": 0,
      "outputs": []
    },
    {
      "metadata": {
        "id": "L5ubR6pBmRI1",
        "colab_type": "code",
        "colab": {}
      },
      "cell_type": "code",
      "source": [
        "model.compile(loss='categorical_crossentropy', optimizer=adam(lr=1.0e-4), metrics=['accuracy'])\n",
        "early = EarlyStopping(monitor='val_acc', min_delta=0, patience=10, verbose=1, mode='auto')"
      ],
      "execution_count": 0,
      "outputs": []
    },
    {
      "metadata": {
        "id": "O1K_5SlYnVF8",
        "colab_type": "code",
        "colab": {
          "base_uri": "https://localhost:8080/",
          "height": 527
        },
        "outputId": "758eb432-4f70-4c49-a402-f3f98e400a18"
      },
      "cell_type": "code",
      "source": [
        "# Train the model \n",
        "model = model.fit_generator(train_batch,\n",
        "                          steps_per_epoch = train_samples/50,\n",
        "                          epochs = epochs,\n",
        "                          validation_data = test_batch,\n",
        "                          validation_steps = test_samples,\n",
        "                          callbacks = [checkpoint, early])"
      ],
      "execution_count": 15,
      "outputs": [
        {
          "output_type": "stream",
          "text": [
            "Epoch 1/15\n",
            "63/62 [==============================] - 808s 13s/step - loss: 0.7599 - acc: 0.6193 - val_loss: 0.5269 - val_acc: 0.7356\n",
            "Epoch 2/15\n",
            "63/62 [==============================] - 796s 13s/step - loss: 0.5257 - acc: 0.7710 - val_loss: 0.5488 - val_acc: 0.7240\n",
            "Epoch 3/15\n",
            "63/62 [==============================] - 794s 13s/step - loss: 0.4952 - acc: 0.7933 - val_loss: 0.5632 - val_acc: 0.7072\n",
            "Epoch 4/15\n",
            "63/62 [==============================] - 786s 12s/step - loss: 0.4905 - acc: 0.7987 - val_loss: 0.5398 - val_acc: 0.7639\n",
            "Epoch 5/15\n",
            "63/62 [==============================] - 783s 12s/step - loss: 0.4700 - acc: 0.8050 - val_loss: 0.5519 - val_acc: 0.7240\n",
            "Epoch 6/15\n",
            "63/62 [==============================] - 783s 12s/step - loss: 0.4605 - acc: 0.8106 - val_loss: 0.5830 - val_acc: 0.7138\n",
            "Epoch 7/15\n",
            "63/62 [==============================] - 783s 12s/step - loss: 0.4471 - acc: 0.8160 - val_loss: 0.4984 - val_acc: 0.7766\n",
            "Epoch 8/15\n",
            "63/62 [==============================] - 781s 12s/step - loss: 0.4311 - acc: 0.8268 - val_loss: 0.5802 - val_acc: 0.7278\n",
            "Epoch 9/15\n",
            "63/62 [==============================] - 783s 12s/step - loss: 0.4255 - acc: 0.8239 - val_loss: 0.5035 - val_acc: 0.7845\n",
            "Epoch 10/15\n",
            "63/62 [==============================] - 778s 12s/step - loss: 0.4059 - acc: 0.8355 - val_loss: 0.4535 - val_acc: 0.8073\n",
            "Epoch 11/15\n",
            "63/62 [==============================] - 781s 12s/step - loss: 0.3934 - acc: 0.8344 - val_loss: 0.5768 - val_acc: 0.7419\n",
            "Epoch 12/15\n",
            "63/62 [==============================] - 784s 12s/step - loss: 0.3573 - acc: 0.8588 - val_loss: 0.5103 - val_acc: 0.7921\n",
            "Epoch 13/15\n",
            "63/62 [==============================] - 791s 13s/step - loss: 0.3611 - acc: 0.8500 - val_loss: 0.5243 - val_acc: 0.7947\n",
            "Epoch 14/15\n",
            "63/62 [==============================] - 792s 13s/step - loss: 0.3289 - acc: 0.8660 - val_loss: 0.5017 - val_acc: 0.7971\n",
            "Epoch 15/15\n",
            "63/62 [==============================] - 787s 12s/step - loss: 0.3461 - acc: 0.8655 - val_loss: 0.4181 - val_acc: 0.8217\n"
          ],
          "name": "stdout"
        }
      ]
    },
    {
      "metadata": {
        "id": "BvniFr4SnRrh",
        "colab_type": "code",
        "colab": {}
      },
      "cell_type": "code",
      "source": [
        ""
      ],
      "execution_count": 0,
      "outputs": []
    }
  ]
}