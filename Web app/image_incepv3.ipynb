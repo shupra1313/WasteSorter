{
  "nbformat": 4,
  "nbformat_minor": 0,
  "metadata": {
    "colab": {
      "name": "image_incepv3.ipynb",
      "version": "0.3.2",
      "provenance": [],
      "collapsed_sections": []
    },
    "kernelspec": {
      "name": "python3",
      "display_name": "Python 3"
    }
  },
  "cells": [
    {
      "metadata": {
        "id": "-7-_042AROwT",
        "colab_type": "code",
        "outputId": "cba169c2-53de-4072-f3cd-0438103447fe",
        "colab": {
          "base_uri": "https://localhost:8080/",
          "height": 34
        }
      },
      "cell_type": "code",
      "source": [
        "import keras\n",
        "from keras.preprocessing.image import ImageDataGenerator\n",
        "from keras.applications.inception_v3 import InceptionV3\n",
        "from keras.layers import Dense, GlobalAveragePooling2D\n",
        "from keras.models import Model\n",
        "from keras import optimizers\n",
        "import matplotlib.pyplot as plt\n",
        "%matplotlib inline"
      ],
      "execution_count": 0,
      "outputs": [
        {
          "output_type": "stream",
          "text": [
            "Using TensorFlow backend.\n"
          ],
          "name": "stderr"
        }
      ]
    },
    {
      "metadata": {
        "id": "DOmh5F23RgvP",
        "colab_type": "code",
        "colab": {}
      },
      "cell_type": "code",
      "source": [
        "import os"
      ],
      "execution_count": 0,
      "outputs": []
    },
    {
      "metadata": {
        "id": "wDQwH4Y6Rgx1",
        "colab_type": "code",
        "colab": {}
      },
      "cell_type": "code",
      "source": [
        "from google.colab import drive"
      ],
      "execution_count": 0,
      "outputs": []
    },
    {
      "metadata": {
        "id": "odRENJbmRgz-",
        "colab_type": "code",
        "outputId": "0c0e1ca7-0d6d-48d5-a1a7-b8447af31166",
        "colab": {
          "base_uri": "https://localhost:8080/",
          "height": 122
        }
      },
      "cell_type": "code",
      "source": [
        "drive.mount('/content/drive')"
      ],
      "execution_count": 0,
      "outputs": [
        {
          "output_type": "stream",
          "text": [
            "Go to this URL in a browser: https://accounts.google.com/o/oauth2/auth?client_id=947318989803-6bn6qk8qdgf4n4g3pfee6491hc0brc4i.apps.googleusercontent.com&redirect_uri=urn%3Aietf%3Awg%3Aoauth%3A2.0%3Aoob&scope=email%20https%3A%2F%2Fwww.googleapis.com%2Fauth%2Fdocs.test%20https%3A%2F%2Fwww.googleapis.com%2Fauth%2Fdrive%20https%3A%2F%2Fwww.googleapis.com%2Fauth%2Fdrive.photos.readonly%20https%3A%2F%2Fwww.googleapis.com%2Fauth%2Fpeopleapi.readonly&response_type=code\n",
            "\n",
            "Enter your authorization code:\n",
            "··········\n",
            "Mounted at /content/drive\n"
          ],
          "name": "stdout"
        }
      ]
    },
    {
      "metadata": {
        "id": "1k2aG1iGRg2V",
        "colab_type": "code",
        "outputId": "c47b2a51-92d3-43f7-9328-29375c99a280",
        "colab": {
          "base_uri": "https://localhost:8080/",
          "height": 34
        }
      },
      "cell_type": "code",
      "source": [
        "#go to working directory\n",
        "cd \"/content/drive/My Drive/dataset/\""
      ],
      "execution_count": 0,
      "outputs": [
        {
          "output_type": "stream",
          "text": [
            "/content/drive/My Drive/dataset\n"
          ],
          "name": "stdout"
        }
      ]
    },
    {
      "metadata": {
        "id": "YsfNoSWsRg4r",
        "colab_type": "code",
        "outputId": "6dc44b99-c4cb-46a1-e6c9-e80aeee369d0",
        "colab": {
          "base_uri": "https://localhost:8080/",
          "height": 51
        }
      },
      "cell_type": "code",
      "source": [
        "#define the variables\n",
        "train_datagen = ImageDataGenerator(rescale=1./255)\n",
        "test_datagen  = ImageDataGenerator(rescale=1./255)\n",
        "train_dir     = 'training_set'\n",
        "test_dir      = 'test_set'\n",
        "num_classes = 2\n",
        "train_generator = train_datagen.flow_from_directory(train_dir, target_size=(299, 299), \\\n",
        "                                                    batch_size=128, class_mode='categorical')\n",
        "test_generator = test_datagen.flow_from_directory(test_dir, target_size=(299, 299), \\\n",
        "                                                    batch_size=128, class_mode='categorical')"
      ],
      "execution_count": 0,
      "outputs": [
        {
          "output_type": "stream",
          "text": [
            "Found 3111 images belonging to 2 classes.\n",
            "Found 779 images belonging to 2 classes.\n"
          ],
          "name": "stdout"
        }
      ]
    },
    {
      "metadata": {
        "id": "uGVZPlsRRg7b",
        "colab_type": "code",
        "colab": {}
      },
      "cell_type": "code",
      "source": [
        "# create the base pre-trained model\n",
        "base_model = InceptionV3(weights='imagenet', include_top=False)\n",
        "# Get the output layer from the pre-trained Inception V3 model\n",
        "x = base_model.output\n",
        "\n",
        "# Now, add new layers that will be trained with our data\n",
        "# These layers will be randomly initialized\n",
        "x = GlobalAveragePooling2D()(x)\n",
        "x = Dense(64, activation='relu')(x)\n",
        "predictions = Dense(2, activation='softmax')(x)\n",
        "\n",
        "# Get the final Model to train\n",
        "model = Model(inputs=base_model.input, outputs=predictions)\n",
        "\n",
        "# Freeze the layers from the original base model so that we don't update the weights\n",
        "for layer in base_model.layers:\n",
        "    layer.trainable = False"
      ],
      "execution_count": 0,
      "outputs": []
    },
    {
      "metadata": {
        "id": "F_7Dvv09RgtF",
        "colab_type": "code",
        "colab": {}
      },
      "cell_type": "code",
      "source": [
        "adam = optimizers.adam(lr=0.001)\n",
        "# Compile the new model\n",
        "model.compile(optimizer=adam, loss='categorical_crossentropy', metrics=['accuracy'])"
      ],
      "execution_count": 0,
      "outputs": []
    },
    {
      "metadata": {
        "id": "IWfBL53bTLzq",
        "colab_type": "code",
        "outputId": "ed8babab-d5dd-4ecc-8bae-e44d7dd6c655",
        "colab": {
          "base_uri": "https://localhost:8080/",
          "height": 697
        }
      },
      "cell_type": "code",
      "source": [
        "# Setup a callback to save the best model\n",
        "callbacks = [keras.callbacks.ModelCheckpoint('model.{epoch:02d}-{val_acc:.2f}.hdf5', monitor='val_acc',\\\n",
        " verbose=1, save_best_only=True, mode='max', period=1)]\n",
        "\n",
        "# Fit the data and output the history\n",
        "history = model.fit_generator(train_generator, verbose=1, steps_per_epoch=len(train_generator), epochs=10, \\\n",
        " validation_data=test_generator, validation_steps=len(test_generator), callbacks=callbacks)"
      ],
      "execution_count": 0,
      "outputs": [
        {
          "output_type": "stream",
          "text": [
            "Epoch 1/10\n",
            "25/25 [==============================] - 1355s 54s/step - loss: 0.2635 - acc: 0.8976 - val_loss: 0.3985 - val_acc: 0.8511\n",
            "\n",
            "Epoch 00001: val_acc improved from -inf to 0.85109, saving model to model.01-0.85.hdf5\n",
            "Epoch 2/10\n",
            "25/25 [==============================] - 1316s 53s/step - loss: 0.0955 - acc: 0.9633 - val_loss: 0.4140 - val_acc: 0.8549\n",
            "\n",
            "Epoch 00002: val_acc improved from 0.85109 to 0.85494, saving model to model.02-0.85.hdf5\n",
            "Epoch 3/10\n",
            "25/25 [==============================] - 1338s 54s/step - loss: 0.0859 - acc: 0.9672 - val_loss: 0.4586 - val_acc: 0.8485\n",
            "\n",
            "Epoch 00003: val_acc did not improve from 0.85494\n",
            "Epoch 4/10\n",
            "25/25 [==============================] - 1285s 51s/step - loss: 0.0580 - acc: 0.9799 - val_loss: 0.3778 - val_acc: 0.8858\n",
            "\n",
            "Epoch 00004: val_acc improved from 0.85494 to 0.88575, saving model to model.04-0.89.hdf5\n",
            "Epoch 5/10\n",
            "25/25 [==============================] - 1287s 51s/step - loss: 0.0378 - acc: 0.9869 - val_loss: 0.1658 - val_acc: 0.9397\n",
            "\n",
            "Epoch 00005: val_acc improved from 0.88575 to 0.93967, saving model to model.05-0.94.hdf5\n",
            "Epoch 6/10\n",
            "25/25 [==============================] - 1304s 52s/step - loss: 0.0344 - acc: 0.9887 - val_loss: 0.2684 - val_acc: 0.9178\n",
            "\n",
            "Epoch 00006: val_acc did not improve from 0.93967\n",
            "Epoch 7/10\n",
            "25/25 [==============================] - 1325s 53s/step - loss: 0.0244 - acc: 0.9931 - val_loss: 0.5561 - val_acc: 0.8408\n",
            "\n",
            "Epoch 00007: val_acc did not improve from 0.93967\n",
            "Epoch 8/10\n",
            "25/25 [==============================] - 1357s 54s/step - loss: 0.0235 - acc: 0.9931 - val_loss: 0.2755 - val_acc: 0.9127\n",
            "\n",
            "Epoch 00008: val_acc did not improve from 0.93967\n",
            "Epoch 9/10\n",
            "25/25 [==============================] - 1323s 53s/step - loss: 0.0427 - acc: 0.9865 - val_loss: 0.9431 - val_acc: 0.7792\n",
            "\n",
            "Epoch 00009: val_acc did not improve from 0.93967\n",
            "Epoch 10/10\n",
            "25/25 [==============================] - 1320s 53s/step - loss: 0.0292 - acc: 0.9906 - val_loss: 0.5088 - val_acc: 0.8806\n",
            "\n",
            "Epoch 00010: val_acc did not improve from 0.93967\n"
          ],
          "name": "stdout"
        }
      ]
    },
    {
      "metadata": {
        "id": "NK7Tka7hTMDC",
        "colab_type": "code",
        "colab": {}
      },
      "cell_type": "code",
      "source": [
        ""
      ],
      "execution_count": 0,
      "outputs": []
    },
    {
      "metadata": {
        "id": "Rr3wia7qTMGZ",
        "colab_type": "code",
        "colab": {}
      },
      "cell_type": "code",
      "source": [
        ""
      ],
      "execution_count": 0,
      "outputs": []
    },
    {
      "metadata": {
        "id": "kFhrkA0MTLxn",
        "colab_type": "code",
        "colab": {}
      },
      "cell_type": "code",
      "source": [
        ""
      ],
      "execution_count": 0,
      "outputs": []
    },
    {
      "metadata": {
        "id": "_KxcMdRlTLuq",
        "colab_type": "code",
        "colab": {}
      },
      "cell_type": "code",
      "source": [
        ""
      ],
      "execution_count": 0,
      "outputs": []
    },
    {
      "metadata": {
        "id": "XmajODDMTLq3",
        "colab_type": "code",
        "colab": {}
      },
      "cell_type": "code",
      "source": [
        ""
      ],
      "execution_count": 0,
      "outputs": []
    }
  ]
}